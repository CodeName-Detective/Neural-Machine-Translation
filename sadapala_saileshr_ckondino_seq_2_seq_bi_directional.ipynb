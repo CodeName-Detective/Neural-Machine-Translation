{
 "cells": [
  {
   "attachments": {},
   "cell_type": "markdown",
   "metadata": {},
   "source": [
    "# Sequence - To - Sequence with Attention"
   ]
  },
  {
   "cell_type": "code",
   "execution_count": null,
   "metadata": {},
   "outputs": [],
   "source": [
    "! pip install torchtext==0.6.0"
   ]
  },
  {
   "cell_type": "code",
   "execution_count": null,
   "metadata": {},
   "outputs": [],
   "source": [
    "import locale\n",
    "locale.getpreferredencoding = lambda: \"UTF-8\"\n",
    "\n",
    "! pip install -U spacy\n",
    "! python -m spacy download fr_core_news_sm\n",
    "! python -m spacy download en_core_web_sm"
   ]
  },
  {
   "cell_type": "code",
   "execution_count": 1,
   "metadata": {},
   "outputs": [],
   "source": [
    "import torch\n",
    "import torchtext\n",
    "\n",
    "import numpy as np\n",
    "import pandas as pd\n",
    "import spacy\n",
    "\n",
    "import matplotlib.pyplot as plt\n",
    "import IPython.display as display\n",
    "import random"
   ]
  },
  {
   "cell_type": "code",
   "execution_count": null,
   "metadata": {},
   "outputs": [],
   "source": [
    "if torch.backends.mps.is_available():\n",
    "    DEVICE = torch.device(device='mps')\n",
    "elif torch.cuda.is_available():\n",
    "    DEVICE = torch.device(device='cuda')\n",
    "else:\n",
    "    DEVICE = torch.device(device='cpu')"
   ]
  },
  {
   "cell_type": "code",
   "execution_count": 2,
   "metadata": {},
   "outputs": [],
   "source": [
    "DEVICE = torch.device(device='cpu')"
   ]
  },
  {
   "attachments": {},
   "cell_type": "markdown",
   "metadata": {},
   "source": [
    "### Preprocessing"
   ]
  },
  {
   "cell_type": "code",
   "execution_count": 6,
   "metadata": {},
   "outputs": [],
   "source": [
    "spacy_en = spacy.load('en_core_web_sm')\n",
    "spacy_fr = spacy.load('fr_core_news_sm')"
   ]
  },
  {
   "cell_type": "code",
   "execution_count": 7,
   "metadata": {},
   "outputs": [],
   "source": [
    "french = torchtext.data.Field(tokenize= lambda text: [token.text for token in spacy_en.tokenizer(text)],\n",
    "                              lower = True,\n",
    "                              init_token = '<sos>',\n",
    "                              eos_token = '<eos>')\n",
    "\n",
    "english = torchtext.data.Field(tokenize= lambda text: [token.text for token in spacy_fr.tokenizer(text)],\n",
    "                              lower = True,\n",
    "                              init_token = '<sos>',\n",
    "                              eos_token = '<eos>')"
   ]
  },
  {
   "cell_type": "code",
   "execution_count": 8,
   "metadata": {},
   "outputs": [],
   "source": [
    "fields = {\n",
    "    'English': ('eng', english),\n",
    "    'French': ('fre', french)\n",
    "\n",
    "}\n",
    "\n",
    "train_data, test_data = torchtext.data.TabularDataset.splits(\n",
    "    path='data/',\n",
    "    train='train_simple.csv',\n",
    "    test = 'test_simple.csv',\n",
    "    format='csv',\n",
    "    fields=fields\n",
    ")"
   ]
  },
  {
   "cell_type": "code",
   "execution_count": 9,
   "metadata": {},
   "outputs": [],
   "source": [
    "english.build_vocab(train_data, max_size = 10000, min_freq = 2)\n",
    "french.build_vocab(train_data, max_size = 10000, min_freq = 2)"
   ]
  },
  {
   "cell_type": "code",
   "execution_count": 10,
   "metadata": {},
   "outputs": [],
   "source": [
    "batch_size = 64\n",
    "train_iterator, test_iterator = torchtext.data.BucketIterator.splits(\n",
    "    (train_data, test_data),\n",
    "    batch_size = batch_size,\n",
    "    sort_within_batch = True, # Protizes to have examples are of similar length in a batch, because it reduces padding and save compute.\n",
    "    sort_key = lambda x: len(getattr(x, 'eng')), # Protizes to have examples are of similar length in a batch, because it reduces padding and save compute.\n",
    "    device=DEVICE\n",
    ")"
   ]
  },
  {
   "attachments": {},
   "cell_type": "markdown",
   "metadata": {},
   "source": [
    "### Learning Loops"
   ]
  },
  {
   "cell_type": "code",
   "execution_count": 12,
   "metadata": {},
   "outputs": [],
   "source": [
    "pad_idx = french.vocab.stoi['<pad>']\n",
    "criterion = torch.nn.CrossEntropyLoss(ignore_index=pad_idx)"
   ]
  },
  {
   "cell_type": "code",
   "execution_count": 13,
   "metadata": {},
   "outputs": [],
   "source": [
    "def one_epoch_train(model: torch.nn.Module, data_loader_train: torch.utils.data.DataLoader,\n",
    "                    loss_criterion: torch.nn, optim_alog: torch.optim) -> tuple:\n",
    "    \"\"\"Function that trains the model for one epoch.\n",
    "\n",
    "    Args:\n",
    "        model (torch.nn.Module): Pytorch model we want to train.\n",
    "        data_loader_train (torch.utils.data.DataLoader): Pytorch dataloader that carries training data.\n",
    "        loss_criterion (torch.nn): Pytorch loss criteria on which we calculate loss.\n",
    "        optim_alog (torch.optim): Opimiztion algoritham that we use to update model weights.\n",
    "\n",
    "    Returns:\n",
    "        tuple: Tuple carrying Train loss and accuracy\n",
    "    \"\"\"\n",
    "    batch_loss_train = []\n",
    "    batch_counter = 0\n",
    "    for batch in data_loader_train:\n",
    "        input_text = batch.eng.to(DEVICE).permute(1,0)\n",
    "        target_text = batch.fre.to(DEVICE).permute(1,0)\n",
    "\n",
    "\n",
    "        # Enabling model training.\n",
    "        model.train(True)\n",
    "\n",
    "\n",
    "        #Setting gradients to zero to prevent gradient accumulation.\n",
    "        optim_alog.zero_grad()\n",
    "\n",
    "        # Forward pass.\n",
    "        y_pred_prob = model(input_text, target_text)\n",
    "        \n",
    "        y_pred_prob = y_pred_prob[:,1:,:].reshape(-1, y_pred_prob.shape[2])\n",
    "        target_text = target_text[:, 1:].reshape(-1)\n",
    "\n",
    "        loss = loss_criterion(y_pred_prob, target_text)\n",
    "\n",
    "        batch_loss_train.append(loss.item())\n",
    "\n",
    "        # Back Propagation\n",
    "        loss.backward()\n",
    "\n",
    "        # Gradient clipping to prevent exploding gradients\n",
    "        torch.nn.utils.clip_grad_norm_(model.parameters(), max_norm=1)\n",
    "\n",
    "        # Updating weights\n",
    "        optim_alog.step()\n",
    "        \n",
    "        batch_counter += 1\n",
    "\n",
    "        del(input_text)\n",
    "        del(target_text)\n",
    "\n",
    "    return sum(batch_loss_train)/batch_counter"
   ]
  },
  {
   "cell_type": "code",
   "execution_count": 14,
   "metadata": {},
   "outputs": [],
   "source": [
    "def inference(model: torch.nn.Module, data_loader_val: torch.utils.data.DataLoader, loss_criterion: torch.nn) -> tuple:\n",
    "    \"\"\"Function that calculates test accuracy\n",
    "\n",
    "    Args:\n",
    "        model (torch.nn.Module): Pytorch model we want to make inference on.\n",
    "        data_loader_val (torch.utils.data.DataLoader): Pytorch dataloader that carries validation data.\n",
    "        loss_criterion (torch.nn): Pytorch loss criteria on which we calculate loss.\n",
    "\n",
    "    Returns:\n",
    "        tuple: Tuple carrying Test loss and accuracy\n",
    "    \"\"\"\n",
    "\n",
    "    batch_loss_train = []\n",
    "    batch_counter = 0\n",
    "\n",
    "    for batch in data_loader_val:\n",
    "        input_text = batch.eng.to(DEVICE).permute(1,0)\n",
    "        target_text = batch.fre.to(DEVICE).permute(1,0)\n",
    "\n",
    "        # Disabiling model training.\n",
    "        model.train(False)\n",
    "\n",
    "        with torch.inference_mode():\n",
    "            # Forward Pass\n",
    "            y_pred_prob = model(input_text, target_text)\n",
    "\n",
    "            y_pred_prob = y_pred_prob[:,1:,:].reshape(-1, y_pred_prob.shape[2])\n",
    "            target_text = target_text[:, 1:].reshape(-1)\n",
    "\n",
    "            # Calculating Loss\n",
    "            loss = loss_criterion(y_pred_prob, target_text)\n",
    "            batch_loss_train.append(loss.item())\n",
    "\n",
    "        batch_counter += 1\n",
    "\n",
    "        del(input_text)\n",
    "        del(target_text)\n",
    "\n",
    "    return sum(batch_loss_train)/batch_counter"
   ]
  },
  {
   "cell_type": "code",
   "execution_count": 15,
   "metadata": {},
   "outputs": [],
   "source": [
    "def training_loop(model: torch.nn.Module, data_loader_train: torch.utils.data.DataLoader, data_loader_val: torch.utils.data.DataLoader,\n",
    "                  epochs:int, loss_criterion: torch.nn, optim_alog: torch.optim)-> dict:\n",
    "    \"\"\"Function that trains the model for the given number of epochs\n",
    "\n",
    "    Args:\n",
    "        model (torch.nn.Module): Pytorch model we want to train.\n",
    "        data_loader_train (torch.utils.data.DataLoader): Pytorch dataloader that carries training data.\n",
    "        data_loader_val (torch.utils.data.DataLoader): Pytorch dataloader that carries validation data.\n",
    "        epochs (int): Count of EPOCHS\n",
    "        loss_criterion (torch.nn): Pytorch loss criteria on which we calculate loss.\n",
    "        optim_alog (torch.optim): Opimiztion algoritham that we use to update model weights.\n",
    "\n",
    "    Returns:\n",
    "        dict: A dictionary that carries the output metrics.\n",
    "    \"\"\"\n",
    "\n",
    "    loss_train = []\n",
    "    loss_val = []\n",
    "\n",
    "    # Loop that iterates over each EPOCH\n",
    "    for epoch in range(epochs):\n",
    "\n",
    "        #Train the model for one EPOCH\n",
    "        epoch_loss = one_epoch_train(model, data_loader_train, loss_criterion, optim_alog)\n",
    "        loss_train.append(epoch_loss)\n",
    "\n",
    "        # Caluclating Testing results\n",
    "        val_loss = inference(model, data_loader_val, loss_criterion)\n",
    "        loss_val.append(val_loss)\n",
    "\n",
    "        if (epoch+1)%1 == 0:\n",
    "            print('For Epoch {} We Train Loss:{}, Val Loss:{}'.format(epoch+1, epoch_loss,val_loss))\n",
    "    return {'training_loss':loss_train, 'val_loss':loss_val}"
   ]
  },
  {
   "cell_type": "code",
   "execution_count": 16,
   "metadata": {},
   "outputs": [],
   "source": [
    "def plot_metrics(epochs: int,metrics: dict) -> None:\n",
    "    \"\"\"Plot the graphs of Training and Testing Accuracy and Loss across Epoches\n",
    "\n",
    "    Args:\n",
    "        epochs (int): Number of Epochs\n",
    "        metrics (dict): A dictionary containing Test and Training datasets' Loss and accuracy\n",
    "    \"\"\"\n",
    "\n",
    "    plt.figure(figsize=(10,10))\n",
    "    plt.plot(list(range(epochs)), metrics['training_loss'])\n",
    "    plt.plot(list(range(epochs)), metrics['val_loss'])\n",
    "    plt.grid()\n",
    "    plt.legend(['Train', 'Test'])\n",
    "    plt.xlabel('Epochs')\n",
    "    plt.ylabel('Loss')\n",
    "    plt.title('Train and Validation loss across epochs')\n",
    "\n",
    "    plt.show()"
   ]
  },
  {
   "cell_type": "code",
   "execution_count": 17,
   "metadata": {},
   "outputs": [],
   "source": [
    "def sentence_translator(model: torch.nn.Module, sentence: str, src_corpus: torchtext.data.Field, tgt_corpus: torchtext.data.Field) -> list:\n",
    "    \"\"\"Given the model and english sentence it will translate the english sentence to french.\n",
    "\n",
    "    Args:\n",
    "        model (torch.nn.Model): Pytorch Model\n",
    "        sentence (str): English sentence\n",
    "        src_corpus (torchtext.data.Field): English Corpus (Source Torchtext data field)\n",
    "        tgt_corpus (torchtext.data.Field): French Corpus (Destination Torchtext data field)\n",
    "\n",
    "    Returns:\n",
    "        list: List of words \n",
    "    \"\"\"\n",
    "    \n",
    "    # Checking If the sentence is string or not.\n",
    "    if isinstance(sentence, str):\n",
    "        tokens = [token.text.lower() for token in spacy_en(sentence)]\n",
    "    else:\n",
    "        tokens = [token.lower() for token in sentence]\n",
    "        \n",
    "    # Attaching <SOS> token at the beginning of the source sentence\n",
    "    tokens.insert(0, src_corpus.init_token)\n",
    "    \n",
    "    # Attaching <EOS> token at the end of the source sentence\n",
    "    tokens.append(src_corpus.eos_token)\n",
    "    \n",
    "    # Converting the soruce text to sentence vector \n",
    "    sentence_vector = [src_corpus.vocab.stoi[token] for token in tokens]\n",
    "    \n",
    "    # Creating a tensor from the vector\n",
    "    sentence_tensor = torch.LongTensor(sentence_vector).unsqueeze(1).to(DEVICE).permute(1,0)\n",
    "    \n",
    "    # Performing encoding\n",
    "    with torch.inference_mode():\n",
    "        hidden_state, cell_state = model.encoder(sentence_tensor)\n",
    "        \n",
    "    # Attaching <SOS> token at the beginning of the destination sentence. \n",
    "    outputs = [tgt_corpus.vocab.stoi[\"<sos>\"]]\n",
    "    \n",
    "    # Iteration over and producing the sequnce of words of the translated sentence. \n",
    "    for _ in range(30):\n",
    "        \n",
    "        # Getting previous word to pass it to decoder\n",
    "        previous_word = torch.LongTensor([outputs[-1]]).to(DEVICE)\n",
    "        \n",
    "        # Performing Decoding\n",
    "        with torch.inference_mode():\n",
    "            output, hidden_state, cell_state = model.decoder(previous_word, hidden_state, cell_state)\n",
    "            # Predicting the word\n",
    "            word_pred = torch.argmax(output, axis=1).item()\n",
    "            \n",
    "        # Append the Predicted word \n",
    "        outputs.append(word_pred)\n",
    "        \n",
    "        # On reaching end of the sentence break the loop\n",
    "        if torch.argmax(output, axis=1).item() == tgt_corpus.vocab.stoi[\"<eos>\"]:\n",
    "            break\n",
    "    \n",
    "    # Converting translated sentence vector to translated sentence.\n",
    "    translated_sentence = [tgt_corpus.vocab.itos[idx] for idx in outputs]\n",
    "\n",
    "    return translated_sentence[1:]"
   ]
  },
  {
   "cell_type": "code",
   "execution_count": 19,
   "metadata": {},
   "outputs": [],
   "source": [
    "def score_bleu(dataset: torchtext.data.TabularDataset.splits, model: torch.nn.Module, src_corpus: torchtext.data.Field, tgt_corpus: torchtext.data.Field) -> int:\n",
    "    \"\"\" Get BLeU score of the given dataset and its translation.\n",
    "\n",
    "    Args:\n",
    "        dataset (torchtext.data.TabularDataset.splits): torch text data set\n",
    "        model (torch.nn.Model): pytorch model\n",
    "        src_corpus (torchtext.data.Field): English Corpus (Source Torchtext data field)\n",
    "        tgt_corpus (torchtext.data.Field): French Corpus (Destination Torchtext data field)\n",
    "\n",
    "    Returns:\n",
    "        int: Bleu score of the translation.\n",
    "    \"\"\"\n",
    "    targets = []\n",
    "    outputs = []\n",
    "\n",
    "    for translation_record in dataset:\n",
    "        source_sentence = vars(translation_record)[\"eng\"]\n",
    "        target_sentence = vars(translation_record)[\"fre\"]\n",
    "\n",
    "        translated_sentence = sentence_translator(model, source_sentence, src_corpus, tgt_corpus)\n",
    "        translated_sentence = translated_sentence[:-1]\n",
    "\n",
    "        targets.append([target_sentence])\n",
    "        outputs.append(translated_sentence)\n",
    "\n",
    "    return torchtext.data.metrics.bleu_score(outputs, targets)"
   ]
  },
  {
   "attachments": {},
   "cell_type": "markdown",
   "metadata": {},
   "source": [
    "## Model Building"
   ]
  },
  {
   "attachments": {},
   "cell_type": "markdown",
   "metadata": {},
   "source": [
    "#### Encoder"
   ]
  },
  {
   "cell_type": "code",
   "execution_count": 36,
   "metadata": {},
   "outputs": [],
   "source": [
    "class Encoder(torch.nn.Module):\n",
    "    def __init__(self, input_size, embedding_size, hidden_size, num_layers, droput_prob):\n",
    "        super(Encoder, self).__init__()\n",
    "        self.hidden_size = hidden_size\n",
    "        self.num_layers = num_layers\n",
    "\n",
    "        self.dropout = torch.nn.Dropout(droput_prob)\n",
    "        self.embedding = torch.nn.Embedding(input_size, embedding_size)\n",
    "\n",
    "        self.lstm = torch.nn.LSTM(embedding_size, hidden_size, num_layers, batch_first=True, \n",
    "                                  bidirectional = True, dropout=droput_prob)\n",
    "        \n",
    "        self.linear_hidden = torch.nn.Linear(hidden_size*2, hidden_size)\n",
    "        self.linear_cell = torch.nn.Linear(hidden_size*2, hidden_size)\n",
    "\n",
    "    def forward(self, x):\n",
    "        # x shape = (sequence_length, batch_size)\n",
    "        word_embedding = self.dropout(self.embedding(x))\n",
    "\n",
    "        _ , (hidden_state, cell_state) = self.lstm(word_embedding)\n",
    "        \n",
    "        hidden_state = self.linear_hidden(torch.cat((hidden_state[0:self.num_layers], hidden_state[self.num_layers:2*self.num_layers]), dim=2))\n",
    "        cell_state = self.linear_cell(torch.cat((cell_state[0:self.num_layers], cell_state[self.num_layers:2*self.num_layers]), dim=2))\n",
    "        \n",
    "        return hidden_state, cell_state"
   ]
  },
  {
   "attachments": {},
   "cell_type": "markdown",
   "metadata": {},
   "source": [
    "#### Decoder"
   ]
  },
  {
   "cell_type": "code",
   "execution_count": 37,
   "metadata": {},
   "outputs": [],
   "source": [
    "class Decoder(torch.nn.Module):\n",
    "    def __init__(self, input_size, embedding_size, hidden_size, output_size, num_layers, droput_prob):\n",
    "        super(Decoder, self).__init__()\n",
    "        self.hidden_size = hidden_size\n",
    "        self.num_layers = num_layers\n",
    "\n",
    "        self.droput = torch.nn.Dropout(droput_prob)\n",
    "        self.embedding = torch.nn.Embedding(input_size, embedding_size)\n",
    "\n",
    "        self.lstm = torch.nn.LSTM(embedding_size, hidden_size, num_layers, batch_first=True, dropout=droput_prob)\n",
    "        self.linear = torch.nn.Linear(hidden_size, output_size)\n",
    "\n",
    "    def forward(self, x, hidden_state, cell_state):\n",
    "        # X shape = (batch_size) -> (1,batch_size) because we are predicting one word at a time\n",
    "        x = x.unsqueeze(1)\n",
    "\n",
    "        word_embedding = self.droput(self.embedding(x))\n",
    "        \n",
    "        # Embedding shape: (1,batch_size,embedding_size)\n",
    "        output, (hidden_state, cell_state) = self.lstm(word_embedding, (hidden_state, cell_state))\n",
    "        # Shape of output: (1,batch_size, hidden_size)\n",
    "\n",
    "        pred = self.linear(output)\n",
    "        #Shape of pred: (1, batch_size, length_of_vocabulary)\n",
    "        \n",
    "        pred = pred.squeeze(1)\n",
    "     \n",
    "        return pred, hidden_state, cell_state"
   ]
  },
  {
   "attachments": {},
   "cell_type": "markdown",
   "metadata": {},
   "source": [
    "#### Seq-2-Seq"
   ]
  },
  {
   "cell_type": "code",
   "execution_count": 38,
   "metadata": {},
   "outputs": [],
   "source": [
    "class Seq2Seq(torch.nn.Module):\n",
    "    def __init__(self, input_size_encoder, encoder_embedding_size, input_size_decoder, decoder_embedding_size, hidden_size, \n",
    "                 num_layers, output_size, encoder_dropout, decoder_dropout):\n",
    "        \n",
    "        super(Seq2Seq, self).__init__()\n",
    "        self.encoder = Encoder(input_size_encoder, encoder_embedding_size, hidden_size, num_layers, encoder_dropout).to(DEVICE)\n",
    "        self.decoder = Decoder(input_size_decoder, decoder_embedding_size, hidden_size, output_size, num_layers, decoder_dropout).to(DEVICE)\n",
    "\n",
    "    def forward(self, src_text, target_text, teacher_force_ratio=0.5):\n",
    "        batch_size = src_text.shape[0]\n",
    "        # Src_text = (target_len, batch_size)\n",
    "        target_len = target_text.shape[1]\n",
    "        target_vocab_size = len(french.vocab)\n",
    "\n",
    "        outputs = torch.zeros(batch_size, target_len,target_vocab_size).to(device=DEVICE)\n",
    "\n",
    "        hidden_state, cell_state = self.encoder(src_text)\n",
    "        \n",
    "        # Probability Mass Function defined for the word_selection we should choose\n",
    "        next_word_selection_actions = ['Guess', 'Truth']\n",
    "        next_word_selection_probability_distribution = [teacher_force_ratio, 1-teacher_force_ratio]\n",
    "        \n",
    "\n",
    "        # Grab Start Token\n",
    "        x = target_text[:,0]\n",
    "\n",
    "        for t in range(1, target_len):\n",
    "            output, hidden_state, cell_state = self.decoder(x, hidden_state, cell_state)\n",
    "            outputs[:, t, :] = output\n",
    "            # outputs size = (batch_size, target_vocab_size)\n",
    "            best_guess = output.argmax(1)\n",
    "            \n",
    "            # Sampling type word to select based on the above defined Probability Mass Function.\n",
    "            word_to_choose = np.random.choice(a = next_word_selection_actions, size=1, \n",
    "                                              p=next_word_selection_probability_distribution)\n",
    "            \n",
    "            if word_to_choose == 'Guess':\n",
    "                x = best_guess\n",
    "            else:\n",
    "                x = target_text[:,t]\n",
    "\n",
    "\n",
    "        return outputs"
   ]
  },
  {
   "cell_type": "code",
   "execution_count": 39,
   "metadata": {},
   "outputs": [],
   "source": [
    "seq_2_seq_model = Seq2Seq(input_size_encoder=len(english.vocab), encoder_embedding_size = 300, \n",
    "                          input_size_decoder = len(french.vocab), decoder_embedding_size = 300, hidden_size = 1024, \n",
    "                          num_layers = 2, output_size = len(french.vocab), encoder_dropout = 0.5, decoder_dropout = 0.5).to(DEVICE)"
   ]
  },
  {
   "cell_type": "code",
   "execution_count": 40,
   "metadata": {},
   "outputs": [],
   "source": [
    "EPOCHS = 20\n",
    "optimizer = torch.optim.Adam(seq_2_seq_model.parameters(), lr=1e-3)"
   ]
  },
  {
   "cell_type": "code",
   "execution_count": 41,
   "metadata": {},
   "outputs": [
    {
     "name": "stdout",
     "output_type": "stream",
     "text": [
      "For Epoch 1 We Train Loss:3.995913795604827, Val Loss:3.372965225151607\n",
      "For Epoch 2 We Train Loss:3.2812436006631063, Val Loss:3.0180553708757674\n",
      "For Epoch 3 We Train Loss:2.943077395676048, Val Loss:2.7971107278551375\n",
      "For Epoch 4 We Train Loss:2.6731663798071015, Val Loss:2.6160493663379123\n",
      "For Epoch 5 We Train Loss:2.4269122621815677, Val Loss:2.459013615335737\n",
      "For Epoch 6 We Train Loss:2.213444063617925, Val Loss:2.3777739916528975\n",
      "For Epoch 7 We Train Loss:2.0365262221378884, Val Loss:2.270444176026753\n",
      "For Epoch 8 We Train Loss:1.8431999045572462, Val Loss:2.1670696096760884\n",
      "For Epoch 9 We Train Loss:1.6755384988845534, Val Loss:2.1120952921254292\n",
      "For Epoch 10 We Train Loss:1.539136053270595, Val Loss:2.0457253413540974\n",
      "For Epoch 11 We Train Loss:1.4043670175181833, Val Loss:2.048340218407767\n",
      "For Epoch 12 We Train Loss:1.2940371530071186, Val Loss:1.9963666541235787\n",
      "For Epoch 13 We Train Loss:1.164538375511291, Val Loss:1.9833723519529616\n",
      "For Epoch 14 We Train Loss:1.083516425767522, Val Loss:1.926801221711295\n",
      "For Epoch 15 We Train Loss:0.9831340548339164, Val Loss:1.9835782093661172\n",
      "For Epoch 16 We Train Loss:0.8968467226453648, Val Loss:1.929411028112684\n",
      "For Epoch 17 We Train Loss:0.824599694674182, Val Loss:1.975094539778573\n",
      "For Epoch 18 We Train Loss:0.7836294035623028, Val Loss:1.9630004933902196\n",
      "For Epoch 19 We Train Loss:0.7242673208379442, Val Loss:2.0285026345934187\n",
      "For Epoch 20 We Train Loss:0.680857844223642, Val Loss:2.0312293895653317\n"
     ]
    }
   ],
   "source": [
    "output_metrics = training_loop(model = seq_2_seq_model, data_loader_train = train_iterator, data_loader_val = test_iterator,\n",
    "                               epochs = EPOCHS, loss_criterion = criterion, optim_alog = optimizer)"
   ]
  },
  {
   "cell_type": "code",
   "execution_count": 42,
   "metadata": {},
   "outputs": [
    {
     "data": {
      "image/png": "[encoded data removed]",
      "text/plain": [
       "<Figure size 1000x1000 with 1 Axes>"
      ]
     },
     "metadata": {},
     "output_type": "display_data"
    }
   ],
   "source": [
    "plot_metrics(EPOCHS, output_metrics)"
   ]
  },
  {
   "cell_type": "code",
   "execution_count": null,
   "metadata": {},
   "outputs": [],
   "source": [
    "print('Train BLEU Score:{0}'.format(score_bleu(train_data, seq_2_seq_model, english, french)))"
   ]
  },
  {
   "cell_type": "code",
   "execution_count": 43,
   "metadata": {},
   "outputs": [
    {
     "name": "stdout",
     "output_type": "stream",
     "text": [
      "Test BLEU Score:0.301365110176794\n"
     ]
    }
   ],
   "source": [
    "print('Test BLEU Score:{0}'.format(score_bleu(test_data, seq_2_seq_model, english, french)))"
   ]
  },
  {
   "attachments": {},
   "cell_type": "markdown",
   "metadata": {},
   "source": []
  }
 ],
 "metadata": {
  "kernelspec": {
   "display_name": "Python 3",
   "language": "python",
   "name": "python3"
  },
  "language_info": {
   "codemirror_mode": {
    "name": "ipython",
    "version": 3
   },
   "file_extension": ".py",
   "mimetype": "text/x-python",
   "name": "python",
   "nbconvert_exporter": "python",
   "pygments_lexer": "ipython3",
   "version": "3.11.3"
  },
  "orig_nbformat": 4
 },
 "nbformat": 4,
 "nbformat_minor": 2
}
